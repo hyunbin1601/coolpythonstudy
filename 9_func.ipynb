{
 "cells": [
  {
   "cell_type": "code",
   "execution_count": 1,
   "metadata": {},
   "outputs": [
    {
     "name": "stdout",
     "output_type": "stream",
     "text": [
      "안녕하세요\n",
      "파이썬과 40개의 작품들입니다.\n"
     ]
    }
   ],
   "source": [
    "def func():\n",
    "    print(\"안녕하세요\")\n",
    "    print(\"파이썬과 40개의 작품들입니다.\")\n",
    "func()"
   ]
  },
  {
   "cell_type": "code",
   "execution_count": 3,
   "metadata": {},
   "outputs": [
    {
     "name": "stdout",
     "output_type": "stream",
     "text": [
      "안녕하세요\n",
      "파이썬과 40개의 작품들입니다.\n",
      "안녕하세요\n",
      "파이썬과 40개의 작품들입니다.\n",
      "안녕하세요\n",
      "파이썬과 40개의 작품들입니다.\n"
     ]
    }
   ],
   "source": [
    "def func():\n",
    "    print(\"안녕하세요\")\n",
    "    print(\"파이썬과 40개의 작품들입니다.\")\n",
    "for i in range(3):\n",
    "    func()"
   ]
  },
  {
   "cell_type": "code",
   "execution_count": 4,
   "metadata": {},
   "outputs": [
    {
     "name": "stdout",
     "output_type": "stream",
     "text": [
      "6\n"
     ]
    }
   ],
   "source": [
    "def funcMux(a, b):\n",
    "    mux = a*b\n",
    "    return mux\n",
    "c = funcMux(2, 3)\n",
    "print(c)"
   ]
  },
  {
   "cell_type": "code",
   "execution_count": 5,
   "metadata": {},
   "outputs": [
    {
     "name": "stdout",
     "output_type": "stream",
     "text": [
      "4 3\n"
     ]
    }
   ],
   "source": [
    "def funcAddMux(a, b):\n",
    "    add = a+b\n",
    "    mux = a*b\n",
    "    return add, mux\n",
    "a, b = funcAddMux(1, 3)\n",
    "print(a, b)"
   ]
  },
  {
   "cell_type": "code",
   "execution_count": 6,
   "metadata": {},
   "outputs": [
    {
     "name": "stdout",
     "output_type": "stream",
     "text": [
      "3\n"
     ]
    }
   ],
   "source": [
    "def funcAddMux(a,b):\n",
    "    add = a+b\n",
    "    mux = a*b\n",
    "    return add, mux\n",
    "_, b = funcAddMux(1, 3)\n",
    "print(b)"
   ]
  }
 ],
 "metadata": {
  "kernelspec": {
   "display_name": "Python 3.9.12 ('base')",
   "language": "python",
   "name": "python3"
  },
  "language_info": {
   "codemirror_mode": {
    "name": "ipython",
    "version": 3
   },
   "file_extension": ".py",
   "mimetype": "text/x-python",
   "name": "python",
   "nbconvert_exporter": "python",
   "pygments_lexer": "ipython3",
   "version": "3.9.12"
  },
  "orig_nbformat": 4,
  "vscode": {
   "interpreter": {
    "hash": "a077222d77dfe082b8f1dd562ad70e458ac2ab76993a0b248ab0476e32e9e8dd"
   }
  }
 },
 "nbformat": 4,
 "nbformat_minor": 2
}
